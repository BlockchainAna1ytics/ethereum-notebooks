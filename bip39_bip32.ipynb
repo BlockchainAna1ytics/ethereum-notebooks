{
 "cells": [
  {
   "cell_type": "markdown",
   "metadata": {},
   "source": [
    "## BIP 39 + BIP 32 Python Implementation\n",
    "\n",
    "**BIP 39** describes the generation of mnemonic sentences (AKA seed/recovery phrases) ranging from 12-24 words. From those words, a 512-bit seed can be derived.\n",
    "\n",
    "More comprehensive step explanations can be found in the accompanying blog post: [Ethereum 201: Mnemonics](TODO).\n",
    "\n",
    "_Disclaimer: this code is for educational purposes and not optimized for a production environment._"
   ]
  },
  {
   "cell_type": "markdown",
   "metadata": {},
   "source": [
    "### Generate entropy\n",
    "\n",
    "A random number between 128 and 256 bits. Must be a multiple of 32."
   ]
  },
  {
   "cell_type": "code",
   "execution_count": 1,
   "metadata": {},
   "outputs": [
    {
     "name": "stdout",
     "output_type": "stream",
     "text": [
      "b',\\x04q\\x0f\\x10\\xff7\\x0eH\\xcd><2\\x06~\\xa2'\n",
      "bitarray('00101100000001000111000100001111000100001111111100110111000011100100100011001101001111100011110000110010000001100111111010100010')\n"
     ]
    }
   ],
   "source": [
    "import os\n",
    "\n",
    "# valid_entropy_bit_sizes = [128, 160, 192, 224, 256]\n",
    "entropy_bit_size = 128\n",
    "entropy_bytes = os.urandom(entropy_bit_size // 8)\n",
    "\n",
    "print(entropy_bytes)\n",
    "# e.g. b'\\x02@\\x1f\\x17\\xd8GF\\xd2\\x8b\\x18\\xb5\\xef\\xbd\\xd8\\x1c\\x96'\n",
    "\n",
    "from bitarray import bitarray\n",
    "entropy_bits = bitarray()\n",
    "entropy_bits.frombytes(entropy_bytes)\n",
    "print(entropy_bits)\n",
    "# e.g. bitarray('0000001001000000000111...0110000001110010010110')"
   ]
  },
  {
   "cell_type": "markdown",
   "metadata": {},
   "source": [
    "### Make the entropy evenly disible by 11 bits\n",
    "\n",
    "A checksum needs to be added to make the entropy evenly divisible by 11. (You'll see why later.) Divide the entropy size by 32 to get the length of checksum required:"
   ]
  },
  {
   "cell_type": "code",
   "execution_count": 2,
   "metadata": {},
   "outputs": [
    {
     "name": "stdout",
     "output_type": "stream",
     "text": [
      "4\n"
     ]
    }
   ],
   "source": [
    "checksum_length = entropy_bit_size // 32\n",
    "\n",
    "print(checksum_length)\n",
    "# e.g. 4"
   ]
  },
  {
   "cell_type": "markdown",
   "metadata": {},
   "source": [
    "Which four bits? The first four bits of the hashed entropy:"
   ]
  },
  {
   "cell_type": "code",
   "execution_count": 3,
   "metadata": {},
   "outputs": [
    {
     "name": "stdout",
     "output_type": "stream",
     "text": [
      "bitarray('1010')\n"
     ]
    }
   ],
   "source": [
    "from hashlib import sha256\n",
    "hash_bytes = sha256(entropy_bytes).digest()\n",
    "\n",
    "# print(hash_bytes)\n",
    "# e.g. b'\\x1ay\\xc9&[\\x8a\\xe03Z\\x8f\\xa4...'\n",
    "\n",
    "hash_bits = bitarray()\n",
    "hash_bits.frombytes(hash_bytes)\n",
    "\n",
    "# print(hash_bits)\n",
    "# e.g. bitarray('0001101001111...')\n",
    "\n",
    "checksum = hash_bits[:checksum_length]\n",
    "print(checksum)\n",
    "# e.g. bitarray('0001')"
   ]
  },
  {
   "cell_type": "markdown",
   "metadata": {},
   "source": [
    "Add those first four bits to the end of the unhashed entropy:"
   ]
  },
  {
   "cell_type": "code",
   "execution_count": 4,
   "metadata": {},
   "outputs": [
    {
     "name": "stdout",
     "output_type": "stream",
     "text": [
      "128\n",
      "132\n"
     ]
    }
   ],
   "source": [
    "print(len(entropy_bits))\n",
    "# e.g. 128\n",
    "\n",
    "entropy_bits.extend(checksum)\n",
    "\n",
    "print(len(entropy_bits))\n",
    "# e.g. 132"
   ]
  },
  {
   "cell_type": "markdown",
   "metadata": {},
   "source": [
    "### Split the entropy into groups of 11 bits\n",
    "\n",
    "The number of groups is the number of mnemonic words that will be produced."
   ]
  },
  {
   "cell_type": "code",
   "execution_count": 5,
   "metadata": {
    "scrolled": true
   },
   "outputs": [
    {
     "name": "stdout",
     "output_type": "stream",
     "text": [
      "(bitarray('00101100000'), bitarray('00100011100'), bitarray('01000011110'), bitarray('00100001111'), bitarray('11110011011'), bitarray('10000111001'), bitarray('00100011001'), bitarray('10100111110'), bitarray('00111100001'), bitarray('10010000001'), bitarray('10011111101'), bitarray('01000101010'))\n",
      "12\n"
     ]
    }
   ],
   "source": [
    "grouped_bitarrays = tuple(entropy_bits[i * 11: (i + 1) * 11] for i in range(len(entropy_bits) // 11))\n",
    "\n",
    "print(grouped_bitarrays)\n",
    "# e.g. (bitarray('00000010010'), bitarray('00000000111'), ...)\n",
    "\n",
    "print(len(grouped_bitarrays))\n",
    "# e.g. 12"
   ]
  },
  {
   "cell_type": "markdown",
   "metadata": {},
   "source": [
    "Convert the bitarrays to integers. Each 11-bit number is between 0-2047."
   ]
  },
  {
   "cell_type": "code",
   "execution_count": 6,
   "metadata": {},
   "outputs": [
    {
     "name": "stdout",
     "output_type": "stream",
     "text": [
      "(352, 284, 542, 271, 1947, 1081, 281, 1342, 481, 1153, 1277, 554)\n"
     ]
    }
   ],
   "source": [
    "from bitarray.util import ba2int\n",
    "indices = tuple(ba2int(ba) for ba in grouped_bitarrays)\n",
    "\n",
    "print(indices)\n",
    "# e.g. (18, 7, 1583, 1412, 931, 842, 355, 181, 1917, 1910, 57, 353)"
   ]
  },
  {
   "cell_type": "markdown",
   "metadata": {},
   "source": [
    "### Convert each index into an English word\n",
    "\n",
    "The BIP 39 spec links to official word lists for several languages. There are 2048 words in each list - one for each possible 11-bit number. Load the words into memory and swap out each index for its corresponding English word:"
   ]
  },
  {
   "cell_type": "code",
   "execution_count": 7,
   "metadata": {},
   "outputs": [
    {
     "name": "stdout",
     "output_type": "stream",
     "text": [
      "2048\n",
      "['abandon', 'ability', 'able', 'about', 'above']\n"
     ]
    }
   ],
   "source": [
    "with open('english.txt', 'r') as file:\n",
    "    english_word_list = file.read().strip().split()\n",
    "\n",
    "print(len(english_word_list))\n",
    "print(english_word_list[:5])\n",
    "# ['abandon', 'ability', 'able', 'about', 'above']"
   ]
  },
  {
   "cell_type": "code",
   "execution_count": 8,
   "metadata": {},
   "outputs": [
    {
     "name": "stdout",
     "output_type": "stream",
     "text": [
      "clown castle duck capable vibrant mango case pond destroy mother panic earn\n"
     ]
    }
   ],
   "source": [
    "words = tuple(english_word_list[i] for i in indices)\n",
    "\n",
    "# print(words)\n",
    "# e.g. ('across', 'abstract', 'shine', 'rack', 'inner', 'harsh', \n",
    "#  'cluster', 'birth', 'use', 'uphold', 'already', 'club')\n",
    "\n",
    "mnemonic_string = ' '.join(words)\n",
    "print(mnemonic_string)\n",
    "# e.g. 'across abstract shine ... uphold already club'"
   ]
  },
  {
   "cell_type": "markdown",
   "metadata": {},
   "source": [
    "### Generate the seed\n",
    "\n",
    "Use a password-based key derivation function (PBKDF2) to create the seed.\n",
    "\n",
    "Bonus security: you can set an optional passphrase to be included in the salt. (Defaults to empty string.)"
   ]
  },
  {
   "cell_type": "code",
   "execution_count": 9,
   "metadata": {},
   "outputs": [
    {
     "name": "stdout",
     "output_type": "stream",
     "text": [
      "b'\\x1a\\x12\\xa8\\xcb\\xe0(\\x8eu\\xbb\\\\\\x8b\\xda\\xe0m\\x8cW\\x0eK\\x8b\\xa4\\xef\\xf4\\x17G\\x19<uq\\x88\\xf5!0\\xfb\\x10\\xd6\\x94\\xa6\\x96 \\xfe\\x1f\\x0e\\x93\\x16\\xabu\\xc3\\xdaj>Q\\xfe\\xa8\\x88\\xb3+\\x16\\x8e\\x01B4\\xe0\\xf2\\x1d'\n",
      "64\n",
      "1a12a8cbe0288e75bb5c8bdae06d8c570e4b8ba4eff41747193c757188f52130fb10d694a69620fe1f0e9316ab75c3da6a3e51fea888b32b168e014234e0f21d\n"
     ]
    }
   ],
   "source": [
    "salt = \"mnemonic\" # + passphrase (optional)\n",
    "\n",
    "from hashlib import pbkdf2_hmac\n",
    "seed = pbkdf2_hmac(\n",
    "   \"sha512\", \n",
    "   mnemonic_string.encode(\"utf-8\"), \n",
    "   salt.encode(\"utf-8\"), \n",
    "   2048\n",
    ")\n",
    "\n",
    "print(seed)\n",
    "# b\"\\xf8\\xb7W}\\xba\\x02Wx\\xb9\\xbf$\\xf8...\"\n",
    "\n",
    "print(len(seed))\n",
    "# 64 (bytes, i.e. 512 bits)\n",
    "\n",
    "print(seed.hex())\n",
    "# Behold: your seed!"
   ]
  },
  {
   "cell_type": "markdown",
   "metadata": {},
   "source": [
    "Seed generated!\n",
    "\n",
    "Next up: **BIP 32** (coming soon)"
   ]
  }
 ],
 "metadata": {
  "kernelspec": {
   "display_name": "Python 3",
   "language": "python",
   "name": "python3"
  },
  "language_info": {
   "codemirror_mode": {
    "name": "ipython",
    "version": 3
   },
   "file_extension": ".py",
   "mimetype": "text/x-python",
   "name": "python",
   "nbconvert_exporter": "python",
   "pygments_lexer": "ipython3",
   "version": "3.7.6"
  }
 },
 "nbformat": 4,
 "nbformat_minor": 4
}
